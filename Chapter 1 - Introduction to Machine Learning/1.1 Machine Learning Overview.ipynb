{
 "cells": [
  {
   "cell_type": "markdown",
   "metadata": {},
   "source": [
    "# Forward"
   ]
  },
  {
   "cell_type": "markdown",
   "metadata": {},
   "source": [
    "If you haven't already, check out the Welcome Notebook/Markdown on the front page of this Repository! It will give you an idea of what this Repo is all about, and who I am too!"
   ]
  },
  {
   "cell_type": "markdown",
   "metadata": {},
   "source": [
    "# Prerequisites\n",
    "\n",
    " "
   ]
  },
  {
   "cell_type": "markdown",
   "metadata": {},
   "source": [
    "You may want to have a basic background in Math or Statistics, but I will try my best to explain things at a very simple level to make it understandable to all audiences. Additionally, as of now, I plan to make this entirely in Python. Perhaps there will be some R if I go over informatics type topics.. but I'm not there yet. Nonetheless, a basic understanding of programming will be helpful, but I will comment and annotate everything to the best of my ability."
   ]
  },
  {
   "cell_type": "markdown",
   "metadata": {},
   "source": [
    "# Chapter 1: Machine Learning Overview"
   ]
  },
  {
   "cell_type": "markdown",
   "metadata": {},
   "source": [
    "### 1.1 Introduction"
   ]
  },
  {
   "cell_type": "markdown",
   "metadata": {},
   "source": [
    "Let's start with a definition. Wikipedia defines machine learning as \"the study of computer algorithms that improve automatically through experience\" [https://en.wikipedia.org/wiki/Machine_learning]. In case you don't know, an algorithm is just a set of instructions that a computer can follow to solve some problem. Using these definitions, a good way to think of a machine learning algorithm is a set of instructions, which can change and improve with experience, and that a computer can follow to solve a problem. Hopefully in some vague capacity that makes sense, and if not, don't worry, the following examples might help.\n",
    "\n",
    "Machine learning is a hot phrase is tech these days. Don't let it scare you though, you may have encountered it before. If you've ever seen a trend line (line of best fit) in a graph, you've encountered a machine learning algorithm. Below is an example of a trend line."
   ]
  },
  {
   "cell_type": "code",
   "execution_count": 48,
   "metadata": {},
   "outputs": [],
   "source": [
    "# If you dont know Python or programming, just ignore these lines for now.\n",
    "# If your mind can't ignore these lines: It's not feasible to plot a graph\n",
    "# purely using Python's built in capabilities. You need to \"import\" some \n",
    "# outside packages like matplotlib to do so.\n",
    "# The second import imports the ability to plot a trend line. More detail\n",
    "# on this later\n",
    "# The third import imports numpy, a set of functions and algorithms that \n",
    "# simply put, make coding in python easy\n",
    "import matplotlib.pyplot as plt\n",
    "from sklearn.linear_model import LinearRegression, SGDRegressor\n",
    "import numpy as np"
   ]
  },
  {
   "cell_type": "code",
   "execution_count": 20,
   "metadata": {
    "scrolled": false
   },
   "outputs": [
    {
     "data": {
      "image/png": "[encoded data removed]",
      "text/plain": [
       "<Figure size 432x288 with 1 Axes>"
      ]
     },
     "metadata": {
      "needs_background": "light"
     },
     "output_type": "display_data"
    }
   ],
   "source": [
    "# Here I'm going to create some random, 2D data. An X, and Y cooridinate\n",
    "# For now, I'm going to keep the X and Y values separate in arrays\n",
    "# You will see a \"reshape\" function called, this is to ensure that the \n",
    "# input for the trend line algorithm up ahead is the correct shape\n",
    "\n",
    "X = np.array([1,2,3,4,5,6,7,8,9]).reshape(-1,1)\n",
    "y = np.array([2,1.8,2,2,3,3,3,3.5,4])\n",
    "\n",
    "# Here it is, a machine learning algorithm! We are coding a Linear Regression\n",
    "# which is a simple form of the trend line you may already be used to. \n",
    "# The \"fit\" function makes sure our line follows the trend of the data.\n",
    "# More on this later\n",
    "\n",
    "trend_line = LinearRegression().fit(X,y)\n",
    "\n",
    "# Once we have created our algorithm (the line above), we can visualize it by \n",
    "# printing its values over a specified range of data. Since the random 2D data \n",
    "# we used as input was from 1 to 9, we will visualize the line from 1 to 9 as well.\n",
    "\n",
    "X_trend_line = np.array(range(1,10)).reshape(-1,1)\n",
    "y_trend_line = trend_line.predict(X_trend_line)\n",
    "\n",
    "plt.scatter(X,y)\n",
    "plt.plot(X_trend_line,y_trend_line, color = 'black')\n",
    "plt.xlabel('Age')\n",
    "plt.ylabel('Height')\n",
    "plt.title('Trend of Height over Age')\n",
    "plt.show()"
   ]
  },
  {
   "cell_type": "markdown",
   "metadata": {},
   "source": [
    "The trend line above is a Machine Learning algorithm, albeit, a very basic one. You can think of a line as a set of instructions. If you know the formula to calulcate and visualize this line, you can use the formula as a guide, or set of instructions.\n",
    "\n",
    "The data here shows an example of different people's heights at different ages. The general trend is that height increases with age. Our machine learning algorithm solves the following question: what is the average height of a person at a given age. The machine learning algorithm solves this problem from experience, it used the data points on the plot above to create a formula that solves the above problem. This formula can be used to input any age, and output an average height. \n",
    "\n",
    "Note: I completely made up data for this example. I guessed that a newborn probably is between a foot and 2 feet in height, and a 9 year old is probably around 4 feet in height, and filled in randomness in between. \n",
    "\n",
    "You've probably seen the form of the formula for this line before. It follows the form y = (m * x) + b. Lets print the formula below."
   ]
  },
  {
   "cell_type": "code",
   "execution_count": 25,
   "metadata": {},
   "outputs": [
    {
     "name": "stdout",
     "output_type": "stream",
     "text": [
      "y = (0.268333 * x) + 1.358333\n"
     ]
    }
   ],
   "source": [
    "m = trend_line.coef_[0]\n",
    "b = trend_line.intercept_\n",
    "\n",
    "print(\"y = (%f * x) + %f\" % (m, b))"
   ]
  },
  {
   "cell_type": "markdown",
   "metadata": {},
   "source": [
    "So theres our machine learning algorithm, in a tangible formula. The formula is the set of instructions. Lets use it to solve the following problem: what is the average height of a 10 year old?"
   ]
  },
  {
   "cell_type": "code",
   "execution_count": 26,
   "metadata": {},
   "outputs": [
    {
     "name": "stdout",
     "output_type": "stream",
     "text": [
      "y = (0.268333 * 10.000000) + 1.358333\n",
      "y = 4.041667\n"
     ]
    }
   ],
   "source": [
    "x = 10\n",
    "print(\"y = (%f * %f) + %f\" % (m, x, b))\n",
    "print(\"y = %f\" % ((m*x)+b))"
   ]
  },
  {
   "cell_type": "markdown",
   "metadata": {},
   "source": [
    "Our algorithm says 4.04 feet! \n",
    "\n",
    "So there you go, we created a set of instructions (in this case, a formula that takes the form of y = (m * x) + b), that improved itself from experience (determined the values of m and b by \"looking at\" the data) to solve a problem (what is the average height of a person?). "
   ]
  },
  {
   "cell_type": "markdown",
   "metadata": {},
   "source": [
    "Pretty cool right? Why don't we expand on this a bit. What does our algorithm say for someone who is 80?"
   ]
  },
  {
   "cell_type": "code",
   "execution_count": 27,
   "metadata": {},
   "outputs": [
    {
     "name": "stdout",
     "output_type": "stream",
     "text": [
      "y = (0.268333 * 80.000000) + 1.358333\n",
      "y = 22.825000\n"
     ]
    }
   ],
   "source": [
    "x = 80\n",
    "print(\"y = (%f * %f) + %f\" % (m, x, b))\n",
    "print(\"y = %f\" % ((m*x)+b))"
   ]
  },
  {
   "cell_type": "markdown",
   "metadata": {},
   "source": [
    "Uh oh. Our algorithm says that they would be 22.8 feet in height. What went wrong? \n",
    "\n",
    "Remember how the definition of a machine learning algorithm is to improve based on experience? Well here, our algorithm is pretty inexperienced. It only knows heights for people from age 1 to 9. It needs more experience, which means more data."
   ]
  },
  {
   "cell_type": "code",
   "execution_count": 29,
   "metadata": {},
   "outputs": [
    {
     "data": {
      "image/png": "[encoded data removed]",
      "text/plain": [
       "<Figure size 432x288 with 1 Axes>"
      ]
     },
     "metadata": {
      "needs_background": "light"
     },
     "output_type": "display_data"
    }
   ],
   "source": [
    "# This is all the same code from before, except I'm adding some heights for people in their 70s and 80s.\n",
    "\n",
    "X = np.array([1,2,3,4,5,6,7,8,9,70,71,72,73,80,82,85]).reshape(-1,1)\n",
    "y = np.array([2,1.8,2,2,3,3,3,3.5,4,6,5.8,6.2,6.1,5.4,5.4,5.5])\n",
    "\n",
    "trend_line = LinearRegression().fit(X,y)\n",
    "\n",
    "X_trend_line = np.array(range(1,85)).reshape(-1,1)\n",
    "y_trend_line = trend_line.predict(X_trend_line)\n",
    "\n",
    "plt.scatter(X,y)\n",
    "plt.plot(X_trend_line,y_trend_line, color = 'black')\n",
    "plt.xlabel('Age')\n",
    "plt.ylabel('Height')\n",
    "plt.title('Trend of Height over Age')\n",
    "plt.show()"
   ]
  },
  {
   "cell_type": "markdown",
   "metadata": {},
   "source": [
    "So we added data that the algorithm can gain experience from, heights of people above the age of 70. You may notice that the trend line looks a little off, but lets try it out anyways, lets have our algorithm solve what the average height of someone who is 75 is."
   ]
  },
  {
   "cell_type": "code",
   "execution_count": 31,
   "metadata": {},
   "outputs": [
    {
     "name": "stdout",
     "output_type": "stream",
     "text": [
      "y = (0.042860 * 75.000000) + 2.495418\n",
      "y = 5.709949\n"
     ]
    }
   ],
   "source": [
    "m = trend_line.coef_[0]\n",
    "b = trend_line.intercept_\n",
    "x = 75\n",
    "print(\"y = (%f * %f) + %f\" % (m, x, b))\n",
    "print(\"y = %f\" % ((m*x)+b))"
   ]
  },
  {
   "cell_type": "markdown",
   "metadata": {},
   "source": [
    "The algorithm says 5.7 feet, thats much more realistic! Lets check with someone in their 20s now."
   ]
  },
  {
   "cell_type": "code",
   "execution_count": 32,
   "metadata": {},
   "outputs": [
    {
     "name": "stdout",
     "output_type": "stream",
     "text": [
      "y = (0.042860 * 20.000000) + 2.495418\n",
      "y = 3.352626\n"
     ]
    }
   ],
   "source": [
    "m = trend_line.coef_[0]\n",
    "b = trend_line.intercept_\n",
    "x = 20\n",
    "print(\"y = (%f * %f) + %f\" % (m, x, b))\n",
    "print(\"y = %f\" % ((m*x)+b))"
   ]
  },
  {
   "cell_type": "markdown",
   "metadata": {},
   "source": [
    "Hmmm. This seems off now. The average height of someone who is 20 is likely not 3.35 feet. So whats wrong? Well, the last time something was wrong, it was because the algorithm did not have enough experience (enough data). Lets try to as much data as we can to make this dataset realistic."
   ]
  },
  {
   "cell_type": "code",
   "execution_count": 37,
   "metadata": {},
   "outputs": [
    {
     "data": {
      "image/png": "[encoded data removed]",
      "text/plain": [
       "<Figure size 432x288 with 1 Axes>"
      ]
     },
     "metadata": {
      "needs_background": "light"
     },
     "output_type": "display_data"
    }
   ],
   "source": [
    "# This is all the same code from before, except I'm adding some heights for people in their 70s and 80s.\n",
    "\n",
    "X = np.array([1,2,3,4,5,6,7,8,9,\n",
    "              15,20,25,30,35,40,45,50,55,60,65,\n",
    "              70,71,72,73,80,82,85]).reshape(-1,1)\n",
    "y = np.array([2,1.8,2,2,3,3,3,3.5,4,\n",
    "              5.4,6,6,5.9,6.5,5.9,6,5.2,5,5,6,\n",
    "              6,5.8,6.2,6.1,5.4,5.4,5.5])\n",
    "\n",
    "trend_line = LinearRegression().fit(X,y)\n",
    "\n",
    "X_trend_line = np.array(range(1,85)).reshape(-1,1)\n",
    "y_trend_line = trend_line.predict(X_trend_line)\n",
    "\n",
    "plt.scatter(X,y)\n",
    "plt.plot(X_trend_line,y_trend_line, color = 'black')\n",
    "plt.xlabel('Age')\n",
    "plt.ylabel('Height')\n",
    "plt.title('Trend of Height over Age')\n",
    "plt.show()"
   ]
  },
  {
   "cell_type": "markdown",
   "metadata": {},
   "source": [
    "Now we've added in a lot of data, there are a lot of ages between 1 and 85 represented, and generally, you can see a trend that height increases until around 20, and then levels off. Over algorithm doesn't look like it follows this trend though... Let's test it out for sure"
   ]
  },
  {
   "cell_type": "code",
   "execution_count": 42,
   "metadata": {},
   "outputs": [
    {
     "name": "stdout",
     "output_type": "stream",
     "text": [
      "y = (0.038121 * 1.000000) + 3.288617\n",
      "y = 3.326738\n"
     ]
    }
   ],
   "source": [
    "m = trend_line.coef_[0]\n",
    "b = trend_line.intercept_\n",
    "x = 1\n",
    "print(\"y = (%f * %f) + %f\" % (m, x, b))\n",
    "print(\"y = %f\" % ((m*x)+b))"
   ]
  },
  {
   "cell_type": "code",
   "execution_count": 39,
   "metadata": {},
   "outputs": [
    {
     "name": "stdout",
     "output_type": "stream",
     "text": [
      "y = (0.038121 * 20.000000) + 3.288617\n",
      "y = 4.051040\n"
     ]
    }
   ],
   "source": [
    "m = trend_line.coef_[0]\n",
    "b = trend_line.intercept_\n",
    "x = 20\n",
    "print(\"y = (%f * %f) + %f\" % (m, x, b))\n",
    "print(\"y = %f\" % ((m*x)+b))"
   ]
  },
  {
   "cell_type": "code",
   "execution_count": 43,
   "metadata": {},
   "outputs": [
    {
     "name": "stdout",
     "output_type": "stream",
     "text": [
      "y = (0.038121 * 80.000000) + 3.288617\n",
      "y = 6.338310\n"
     ]
    }
   ],
   "source": [
    "m = trend_line.coef_[0]\n",
    "b = trend_line.intercept_\n",
    "x = 80\n",
    "print(\"y = (%f * %f) + %f\" % (m, x, b))\n",
    "print(\"y = %f\" % ((m*x)+b))"
   ]
  },
  {
   "cell_type": "markdown",
   "metadata": {},
   "source": [
    "Now someone who is 1 year old is 3.3 feet tall, someone who is 20 is 4 feet tall, and someone who is 80 is 6.3 feet tall. All wrong. But our dataset is pretty good now. What happened?"
   ]
  },
  {
   "cell_type": "markdown",
   "metadata": {},
   "source": [
    "The form of the algorithm that we chose, a Linear Regression, is very limited. It is completely linear, and does not model that \"leveling off\" that we saw in the data set. We need an algorithm that can fit to this data better. \n",
    "\n",
    "Lets make a smoothed trend line. For now, you don't need to worry about how, but the idea is to make a line than can curve with the data."
   ]
  },
  {
   "cell_type": "code",
   "execution_count": 50,
   "metadata": {},
   "outputs": [],
   "source": [
    "from sklearn.linear_model import Ridge\n",
    "from sklearn.preprocessing import PolynomialFeatures\n",
    "from sklearn.pipeline import make_pipeline"
   ]
  },
  {
   "cell_type": "code",
   "execution_count": 57,
   "metadata": {},
   "outputs": [
    {
     "data": {
      "image/png": "[encoded data removed]",
      "text/plain": [
       "<Figure size 432x288 with 1 Axes>"
      ]
     },
     "metadata": {
      "needs_background": "light"
     },
     "output_type": "display_data"
    }
   ],
   "source": [
    "# This is all the same code from before, except I'm adding some heights for people in their 70s and 80s.\n",
    "\n",
    "X = np.array([1,2,3,4,5,6,7,8,9,\n",
    "              15,20,25,30,35,40,45,50,55,60,65,\n",
    "              70,71,72,73,80,82,85]).reshape(-1,1)\n",
    "y = np.array([2,1.8,2,2,3,3,3,3.5,4,\n",
    "              5.4,6,6,5.9,6.5,5.9,6,5.2,5,5,6,\n",
    "              6,5.8,6.2,6.1,5.4,5.4,5.5])\n",
    "\n",
    "trend_line = make_pipeline(PolynomialFeatures(4), Ridge()).fit(X,y)\n",
    "\n",
    "X_trend_line = np.array(range(1,85)).reshape(-1,1)\n",
    "y_trend_line = trend_line.predict(X_trend_line)\n",
    "\n",
    "plt.scatter(X,y)\n",
    "plt.plot(X_trend_line,y_trend_line, color = 'black')\n",
    "plt.xlabel('Age')\n",
    "plt.ylabel('Height')\n",
    "plt.title('Trend of Height over Age')\n",
    "plt.show()"
   ]
  },
  {
   "cell_type": "markdown",
   "metadata": {},
   "source": [
    "Visually, this looks so much better. Lets run that last set of tests again."
   ]
  },
  {
   "cell_type": "code",
   "execution_count": 61,
   "metadata": {},
   "outputs": [
    {
     "data": {
      "text/plain": [
       "array([1.26756099, 5.69879796, 5.47125411])"
      ]
     },
     "execution_count": 61,
     "metadata": {},
     "output_type": "execute_result"
    }
   ],
   "source": [
    "trend_line.predict([[1],[20],[85]])"
   ]
  },
  {
   "cell_type": "markdown",
   "metadata": {},
   "source": [
    "Now the algorithm reports that for a 1 year old, the height should be 1.2 feet, for a 20 year old the height should 5.7 feet, and for an 85 year old the height should be 5.4 feet. This is a lot better!\n",
    "\n",
    "Okay, we just covered a ton, so lets recap a bit.\n",
    "\n",
    "A machine learning algorithm is a set of instructions that are tuned based on experience. A set of instructions is also known as an algorithm, and an algorithm could look like a formula. Experience typically comes in the form of data, and we \"feed\" this data to the algorithm to have it tune itself/it's instructions. We implemented this idea by creating a dataset, showing this dataset to a type of machine learning algorithm that tuned its parameters around the data, and then was able to solve problems for us based on the data set.\n",
    "\n",
    "That's alot, and hopefully the whole machine learning idea is clearer now. \n",
    "\n",
    "We are missing a lot though. You're maybe wondering where the impressive aspects are. You've probably heard that Machine Learning can be used to identify cancer, drive autonomous vehicles, or other really complicated things. But what you may not realize is the way all these things are accomplished is not so far off from the exercise we just went through. To do complicated things like identify objects in an image, algorithms are created in a similar fashion. They are shown data, and discover trends and features in the data that allow them to predict an answer to a problem. \n",
    "\n",
    "You are right though, we are missing a lot of material to get to that really advanced level. Even in this example we went through, there are unanswered questions. How did I know we needed the algorithm to see more data? How did I know what type of algorithm to use to follow a curved trend? How do these algorithms \"learn\"/\"fit\" to a dataset? What if the dataset is more complicated? How do we ensure our algorithm is accurate if we can't easily \"plug and chug\" into a formula? How can an algorithm learn from an image? \n",
    "\n",
    "I'm sure theres more questions. We will get to it all (hopefully)! For now, pat yourself on the back, you got this far!"
   ]
  },
  {
   "cell_type": "code",
   "execution_count": null,
   "metadata": {},
   "outputs": [],
   "source": []
  }
 ],
 "metadata": {
  "kernelspec": {
   "display_name": "Python 3",
   "language": "python",
   "name": "python3"
  },
  "language_info": {
   "codemirror_mode": {
    "name": "ipython",
    "version": 3
   },
   "file_extension": ".py",
   "mimetype": "text/x-python",
   "name": "python",
   "nbconvert_exporter": "python",
   "pygments_lexer": "ipython3",
   "version": "3.8.3"
  }
 },
 "nbformat": 4,
 "nbformat_minor": 4
}
